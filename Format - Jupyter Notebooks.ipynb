{
 "cells": [
  {
   "cell_type": "markdown",
   "metadata": {},
   "source": [
    "<hr>\n",
    "<div style=\"background-color: lightgray; padding: 20px; color: black;\">\n",
    "<div>\n",
    "<img src=\"https://th.bing.com/th/id/R.3cd1c8dc996c5616cf6e65e20b6bf586?rik=09aaLyk4hfbBiQ&riu=http%3a%2f%2fcidics.uanl.mx%2fwp-content%2fuploads%2f2016%2f09%2fcimat.png&ehk=%2b0brgMUkA2BND22ixwLZheQrrOoYLO3o5cMRqsBOrlY%3d&risl=&pid=ImgRaw&r=0\" style=\"float: right; margin-right: 30px;\" width=\"200\"/> \n",
    "<font size=\"6.5\" color=\"8C3061\"><b>Markdown Tutorial</b></font> <br>\n",
    "<font size=\"5.5\" color=\"8C3061\"><b>Master the Basics of Markdown</b></font> \n",
    "</div>\n",
    "<div style=\"text-align: left\">  <br>\n",
    "Edison David Serrano Cárdenas 🇨🇴 <br>\n",
    "MSc en Matemáticas Aplicadas <br>\n",
    "CIMAT - Sede Guanajuato <br>\n",
    "</div>\n",
    "\n",
    "</div>\n",
    "<hr>"
   ]
  },
  {
   "cell_type": "markdown",
   "metadata": {},
   "source": [
    "# <font color=\"8C3061\" >**Introduction**</font>"
   ]
  },
  {
   "cell_type": "markdown",
   "metadata": {},
   "source": [
    "🚀 Master Markdown in Minutes! A complete guide with examples, tips, and tricks.\n",
    "\n",
    "**Key Words:** Markdown, Basic HTML"
   ]
  },
  {
   "cell_type": "markdown",
   "metadata": {},
   "source": [
    "# <font color=\"8C3061\" >**Text Formatting**</font>"
   ]
  },
  {
   "cell_type": "markdown",
   "metadata": {},
   "source": [
    "- <font color=\"8C3061\" >**Text Emphasis:**</font>\n",
    "\n",
    "    - **Bold**  : Use \\*\\*Bold\\*\\*\n",
    "    - *Italic*  :  Use \\*Italic\\*\n",
    "    - ***Bold and Italic***: Use \\*\\*\\*Bold and Italic\\*\\*\\*"
   ]
  },
  {
   "cell_type": "markdown",
   "metadata": {},
   "source": [
    "- <font color=\"8C3061\" >**Strikethrough:**</font>\n",
    "\t- ~~Scratch this~~ : Use \\-\\- Scratch this \\-\\- \n",
    "\t- <del>Scratch this</del> : Use \\<del\\>Scratch this\\<\\/del\\>"
   ]
  },
  {
   "cell_type": "markdown",
   "metadata": {},
   "source": [
    "- <font color=\"8C3061\" >**Color:**</font>\n",
    "\t- <span style=\"color:blue\">some *This is Blue italic.* text</span> <br>  \n",
    "\t- <span style=\"color:red\">some **This is Red Bold.** text</span> <br> \n",
    "\t- <span style=\"color:#4F959D\">some **I love this color** </span> <br> \n"
   ]
  },
  {
   "cell_type": "markdown",
   "metadata": {},
   "source": [
    "- <font color=\"8C3061\" >**Highlighting Text:**</font>\n",
    "\t- <mark>Highlighted text</mark> <br>\n",
    "\t- <mark style=\"background-color: #4F959D\">Highlighted text</mark> <br> \n",
    "\t- `Highlighted text`\n"
   ]
  },
  {
   "cell_type": "markdown",
   "metadata": {},
   "source": [
    "## <font color=\"8C3061\" >**Embedding Code in Markdown:**</font>"
   ]
  },
  {
   "cell_type": "markdown",
   "metadata": {},
   "source": [
    "\n",
    "- Python Example:\n",
    "    \n",
    "    ```python\n",
    "    import numpy as np\n",
    "\n",
    "    def sum(a:float,b:float)->float:\n",
    "        return a+b\n",
    "    ```\n",
    "\n",
    "- C++ Example:\n",
    "    ```c++\n",
    "    # include <iostream>\n",
    "    # include <vector>\n",
    "    using namespace std;\n",
    "\n",
    "    class Solution {\n",
    "    public:\n",
    "        int maxProfit(vector<int>& prices) {\n",
    "        \n",
    "        int buy = prices[0], profit = 0;\n",
    "\n",
    "        for(int i=1;i<prices.size();i++){\n",
    "            if (prices[i]<buy){\n",
    "                buy = prices[i];\n",
    "            }else if(profit<prices[i]-buy){\n",
    "                profit = prices[i]-buy;\n",
    "            }\n",
    "        }\n",
    "        return profit;\n",
    "        }\n",
    "    };\n",
    "    ```\n",
    "\n",
    "- Bash\n",
    "    ```bash\n",
    "    echo \"Unos taquitos de pastor\" | grep \"taquitos\" \n",
    "    ```\n",
    "\n",
    "\n",
    "<div class=\"alert alert-block alert-info\">\n",
    "<b>Note:</b> Open this cell to see the syntax.</div>"
   ]
  },
  {
   "cell_type": "markdown",
   "metadata": {},
   "source": [
    "## <font color=\"8C3061\" >**Header Formatting:**</font>\n"
   ]
  },
  {
   "cell_type": "markdown",
   "metadata": {},
   "source": [
    "- <font color=\"8C3061\" >**Types (Size or Hierarchy):**</font>\n",
    "    - (Markdown Syntax): `#### Header 4` <br>  \n",
    "    - (HTML Syntax): `<h4>Header 4</h4>`  \n",
    "\n",
    "#       Header 1\n",
    "##      Header 2\n",
    "###     Header 3 \n",
    "####    Header 4\n",
    "#####   Header 5"
   ]
  },
  {
   "cell_type": "markdown",
   "metadata": {},
   "source": [
    "- <font color=\"8C3061\" >**Alignment:**</font>\n",
    "\t- `<h1 align=\"right\">Right Title</h1>`  \n",
    "    - `# <center> Title Centering </center>`   \n",
    "\n",
    "<h1 align=\"right\">Right Title</h1>\n",
    "\n",
    "# <center> Title Centering </center>"
   ]
  },
  {
   "cell_type": "markdown",
   "metadata": {},
   "source": [
    "- <font color=\"8C3061\" >**Color:**</font>\n",
    "SINTAX: `<h1><font color=\"purple\">Title with purple color</font></h1>` \n",
    "\n",
    "<h1><font color=\"purple\">Title with purple color</font></h1>"
   ]
  },
  {
   "cell_type": "markdown",
   "metadata": {},
   "source": [
    "# <font color=\"8C3061\" >**Creating Lists in Markdown:**</font>"
   ]
  },
  {
   "cell_type": "markdown",
   "metadata": {},
   "source": [
    "<font color=\"8C3061\" >**Ordered Lists:**</font> \n",
    "\n",
    "2. Second item  \n",
    "3. Third item  \n",
    "\t1. First item  \n",
    "    \t1. First item  \n",
    "        2. Second item  \n",
    "4. Fourth item  \n",
    "\n",
    "<font color=\"8C3061\" >**Unordered Lists:**</font>  \n",
    "\n",
    "- First item  \n",
    "- Second item  \n",
    "- Third item  \n",
    "    - Indented item  \n",
    "    - Indented item  \n",
    "        - Indented item  \n",
    "        - Indented item  \n",
    "- Fourth item "
   ]
  },
  {
   "cell_type": "markdown",
   "metadata": {},
   "source": [
    "<font color=\"8C3061\" >**Table of Contents:**</font> "
   ]
  },
  {
   "cell_type": "markdown",
   "metadata": {},
   "source": [
    "- [Introduction](#introduction)\n",
    "- [Text Formatting](#embedding-code-in-markdown)\n",
    "- [Creating Lists in Markdown:](#creating-lists-in-markdown)\n"
   ]
  },
  {
   "cell_type": "markdown",
   "metadata": {},
   "source": [
    "# <font color=\"8C3061\" >**Check Box:**</font> \n",
    "- [x] Design\n",
    "\t- [ ] Stage 1\n",
    "    - [x] Sub-Stage 2\n",
    "- [x] Mockups\n",
    "- [x] Development"
   ]
  },
  {
   "cell_type": "markdown",
   "metadata": {},
   "source": [
    "# <font color=\"8C3061\" >**Inserting Tables:**</font>"
   ]
  },
  {
   "cell_type": "markdown",
   "metadata": {},
   "source": [
    "|Header1 |Header2  | Header3|  \n",
    "|:--- |:---:|---:|  \n",
    "|Align left| Align right|center text|  \n",
    "|cell |cell|cell |  \n",
    "\n",
    "**Note:**  \n",
    "- Use `:-:` to center the text.  \n",
    "- Use `-` to align the text to the right.  \n",
    "- Use `:-` to align the text to the left."
   ]
  },
  {
   "cell_type": "markdown",
   "metadata": {},
   "source": [
    "# <font color=\"8C3061\" >**Nested Block Quoting:**</font>\n"
   ]
  },
  {
   "cell_type": "markdown",
   "metadata": {},
   "source": [
    "**Example 1:**\n",
    "> Dorothy followed her through many of the beautiful rooms in her castle.\n",
    "\n",
    "**Example 2:**\n",
    "> Dorothy followed her through many of the beautiful rooms in her castle.\n",
    ">\n",
    "> Holaaaaap\n",
    ">> The Witch bade her clean the pots and kettles and sweep the floor and keep the fire fed with wood."
   ]
  },
  {
   "cell_type": "markdown",
   "metadata": {},
   "source": [
    "# <font color=\"8C3061\" >**Colored Note Boxes:**</font>"
   ]
  },
  {
   "cell_type": "markdown",
   "metadata": {},
   "source": [
    "<div class=\"alert alert-block alert-info\">\n",
    "<b>Tip:</b> Use blue boxes (alert-info) for tips and notes.</div>"
   ]
  },
  {
   "cell_type": "markdown",
   "metadata": {},
   "source": [
    "<div class=\"alert alert-block alert-warning\">\n",
    "<b>Example:</b> Use yellow boxes for examples that are not inside code cells, or use for mathematical formulas if needed. Typically also used to display warning messages.\n",
    "</div>"
   ]
  },
  {
   "cell_type": "markdown",
   "metadata": {},
   "source": [
    "<div class=\"alert alert-block alert-success\">\n",
    "<b>Success:</b> This alert box indicates a successful or positive action.\n",
    "</div>"
   ]
  },
  {
   "cell_type": "markdown",
   "metadata": {},
   "source": [
    "<div class=\"alert alert-block alert-danger\">\n",
    "<b>Danger:</b> This alert box indicates a dangerous or potentially negative action.\n",
    "</div>"
   ]
  },
  {
   "cell_type": "markdown",
   "metadata": {},
   "source": [
    "# <font color=\"8C3061\" >**HyperLinks:**</font>"
   ]
  },
  {
   "cell_type": "markdown",
   "metadata": {},
   "source": [
    "- **Access the website with one click:** <br>  \n",
    "  My favorite search engine is [Duck Duck Go](https://duckduckgo.com).  \n",
    "\n",
    "- **Access the website by clicking and see a description when hovering over it:** <br>  \n",
    "  My favorite search engine is [Duck Duck Go](https://duckduckgo.com \"The best search engine for privacy\").  "
   ]
  },
  {
   "cell_type": "markdown",
   "metadata": {},
   "source": [
    "# <font color=\"8C3061\" >**Displaying Images in Markdown:**</font>"
   ]
  },
  {
   "cell_type": "markdown",
   "metadata": {},
   "source": [
    "<font color=\"8C3061\" >**Insert a single image:**</font>\n",
    "\n",
    "\n",
    "In the following images, you can see how the size can be manually adjusted. Additionally,\n",
    "\n",
    "<center> \n",
    "<img src=\"https://www.pbs.org/wnet/nature/files/2021/05/frog-768x432.png\" alt=\"Alternative text\" width=\"400\"/> \n",
    "</center> <br> \n",
    "\n",
    "By clicking on this image, it will take you to the website where it was taken. <br> \n",
    "\n",
    "<div style=\"width:95%\"> \n",
    "<a href=\"https://www.pbs.org/wnet/nature/blog/frog-fact-sheet/\" rel=\"some text\" align =\"right\">\n",
    "<img src=\"https://www.pbs.org/wnet/nature/files/2021/05/pexels-thierry-fillieul-1046494-768x432.jpg\" style=\"float: right; margin-right: 30px;\" width=\"400\"/> </a> </div>"
   ]
  },
  {
   "cell_type": "markdown",
   "metadata": {},
   "source": [
    "<font color=\"8C3061\" >**Insert multiple images:**</font>\n",
    "\n"
   ]
  },
  {
   "cell_type": "markdown",
   "metadata": {},
   "source": [
    "<table><tr>\n",
    "<td> <img src=\"https://www.pbs.org/wnet/nature/files/2021/05/frog-768x432.png\" alt=\"Drawing\" style=\"width: 250px;\"/> </td>\n",
    "<td> <img src=\"https://www.pbs.org/wnet/nature/files/2021/05/frog3-768x432.png\" alt=\"Drawing\" style=\"width: 250px;\"/> </td>\n",
    "<td> <img src=\"https://www.pbs.org/wnet/nature/files/2021/05/frog1-768x432.png\" alt=\"Drawing\" style=\"width: 250px;\"/> </td>\n",
    "</tr>\n",
    "    \n",
    "<tr>\n",
    "<td> <center><font size=\"5\" color=\"purple\" > uwu <br> add texto</font></center> </td>\n",
    "<td> <img src=\"https://www.pbs.org/wnet/nature/files/2021/05/frog2-768x432.png\" alt=\"Drawing\" style=\"width: 250px;\"/> </td>    \n",
    "</tr>\n",
    "</table>"
   ]
  },
  {
   "cell_type": "markdown",
   "metadata": {},
   "source": [
    "<font color=\"8C3061\" >**Table with Images:**</font>"
   ]
  },
  {
   "cell_type": "markdown",
   "metadata": {},
   "source": [
    "\n",
    "<center>\n",
    "<table>\n",
    "<tr>\n",
    "<td> <center><font size=\"5\" color=\"#4F959D\" >Golden Poison Frog </font></center> </td>\n",
    "<td> <img src=\"https://www.treehugger.com/thmb/FMhCaytYSaXVh1h5ftgN_aoBeqE=/1500x0/filters:no_upscale():max_bytes(150000):strip_icc()/GettyImages-115042394-19c9bc12e4b241ea94c4fac4130fcb8f.jpg\" alt=\"Drawing\" style=\"width: 250px;\"/> </td>    \n",
    "</tr>\n",
    "<tr>\n",
    "<td> <center><font size=\"5\" color=\"#4F959D\" > Glass Frog</font></center> </td>\n",
    "<td> <img src=\"https://imagenes.elpais.com/resizer/v2/https%3A%2F%2Fep01.epimg.net%2Felpais%2Fimagenes%2F2017%2F05%2F29%2Fciencia%2F1496047502_788600_1496059078_noticia_fotograma.jpg?auth=ef2cf30ce01c6a9482ec147c0e8c64cbd1d607a68357b185291e0d082420b6e7&width=1960&height=1103&smart=true\" alt=\"Drawing\" style=\"width: 250px;\"/> </td>    \n",
    "</tr>\n",
    "</table>\n",
    "</center>"
   ]
  },
  {
   "cell_type": "markdown",
   "metadata": {},
   "source": [
    "# <font color=\"8C3061\" >**Some References:**</font>\n",
    "\n",
    "[1] [Markdown - Tutorials](https://www.w3schools.io/file/markdown-introduction/) <br>\n",
    "[2] [The Ultimate Markdown Guide (for Jupyter Notebook)](https://medium.com/analytics-vidhya/the-ultimate-markdown-guide-for-jupyter-notebook-d5e5abf728fd)<br>\n",
    "[3] [How to Easily Embed Videos or Audios in the Jupyter Notebook](https://medium.com/@shouke.wei/how-to-easily-embed-videos-or-audios-in-the-jupyter-notebook-777e2382bebe)<br>\n",
    "[4] [How to Embed YouTube Videos in the Jupyter Notebook](https://medium.com/@shouke.wei/how-to-embed-youtube-videos-in-the-jupyter-notebook-1a5fbfc0cdc2#:~:text=To%20embed%20and%20play%20YouTube,Click%20Embed)<br>\n",
    "[5] [Frog Fact Sheet](https://www.pbs.org/wnet/nature/blog/frog-fact-sheet/)"
   ]
  }
 ],
 "metadata": {
  "kernelspec": {
   "display_name": "Python 3",
   "language": "python",
   "name": "python3"
  },
  "language_info": {
   "name": "python",
   "version": "3.12.1"
  }
 },
 "nbformat": 4,
 "nbformat_minor": 2
}
